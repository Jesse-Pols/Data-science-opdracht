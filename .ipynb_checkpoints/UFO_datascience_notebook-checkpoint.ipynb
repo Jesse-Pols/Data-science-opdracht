{
 "cells": [
  {
   "cell_type": "markdown",
   "metadata": {},
   "source": [
    "# Datascience Project - UFO's\n",
    "Jesse Pols, Bart van Tongeren\n",
    "\n",
    "# Inleiding\n",
    "Dit project is voor het vak Data Science. Het is de bedoeling dat we een dataset betreffend UFO’s gaan analyseren en daar conclusies uit gaan trekken.\n",
    "\n",
    "De bijgeleverde dataset bevat onderzoeksdata betreft UFO-waarnemingen over de hele wereld. Het gaat dan onder andere om de vorm van de UFO, hoelang hij zichtbaar was, en de kleine omschrijving van degene die hem heeft gezien. We mogen er vanuit gaan dat de dataset 90% betrouwbaar is.\n",
    "\n",
    "\n",
    "# Importeren\n",
    "Allereerst gaan we alle benodigde libraries importeren. \n",
    "Numpy gaan we gebruiken voor het versimpelen van de berekeningen.\n",
    "Pandas gaan we gebruiken om de dataset te kunnen analyseren."
   ]
  },
  {
   "cell_type": "code",
   "execution_count": 2,
   "metadata": {},
   "outputs": [],
   "source": [
    "import pandas as pd\n",
    "import numpy as np"
   ]
  }
 ],
 "metadata": {
  "kernelspec": {
   "display_name": "Python 3",
   "language": "python",
   "name": "python3"
  },
  "language_info": {
   "codemirror_mode": {
    "name": "ipython",
    "version": 3
   },
   "file_extension": ".py",
   "mimetype": "text/x-python",
   "name": "python",
   "nbconvert_exporter": "python",
   "pygments_lexer": "ipython3",
   "version": "3.7.4"
  }
 },
 "nbformat": 4,
 "nbformat_minor": 2
}
